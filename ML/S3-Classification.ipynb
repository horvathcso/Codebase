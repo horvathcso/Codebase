{
 "cells": [
  {
   "cell_type": "code",
   "execution_count": 1,
   "metadata": {},
   "outputs": [
    {
     "name": "stderr",
     "output_type": "stream",
     "text": [
      "/home/csongor/.local/lib/python3.10/site-packages/sklearn/datasets/_openml.py:1022: FutureWarning: The default value of `parser` will change from `'liac-arff'` to `'auto'` in 1.4. You can set `parser='auto'` to silence this warning. Therefore, an `ImportError` will be raised from 1.4 if the dataset is dense and pandas is not installed. Note that the pandas parser may return different data types. See the Notes Section in fetch_openml's API doc for details.\n",
      "  warn(\n"
     ]
    },
    {
     "data": {
      "text/plain": [
       "dict_keys(['data', 'target', 'frame', 'categories', 'feature_names', 'target_names', 'DESCR', 'details', 'url'])"
      ]
     },
     "execution_count": 1,
     "metadata": {},
     "output_type": "execute_result"
    }
   ],
   "source": [
    "from sklearn.datasets import fetch_openml\n",
    "mnist = fetch_openml('mnist_784', version=1)\n",
    "mnist.keys()"
   ]
  },
  {
   "cell_type": "code",
   "execution_count": 2,
   "metadata": {},
   "outputs": [
    {
     "name": "stdout",
     "output_type": "stream",
     "text": [
      "data shape:  (70000, 784)\n",
      "target shape:  (70000,)\n"
     ]
    }
   ],
   "source": [
    "x, y = mnist[\"data\"].to_numpy(), mnist[\"target\"].to_numpy()\n",
    "print(\"data shape: \", x.shape)\n",
    "print(\"target shape: \", y.shape)"
   ]
  },
  {
   "cell_type": "code",
   "execution_count": null,
   "metadata": {},
   "outputs": [],
   "source": [
    "import matplotlib as mpl\n",
    "import matplotlib.pyplot as plt\n",
    "\n",
    "some_digit = x[0]\n",
    "some_digit_image = some_digit.reshape(28, 28)\n",
    "\n",
    "plt.imshow(some_digit_image, cmap=\"binary\")\n",
    "plt.axis(\"off\")\n",
    "plt.show()\n",
    "y[0]"
   ]
  },
  {
   "cell_type": "code",
   "execution_count": 3,
   "metadata": {},
   "outputs": [],
   "source": [
    "import numpy as np\n",
    "\n",
    "y=y.astype(np.uint8)"
   ]
  },
  {
   "cell_type": "code",
   "execution_count": 4,
   "metadata": {},
   "outputs": [],
   "source": [
    "# Creating data sets\n",
    "\n",
    "x_train, x_test, y_train, y_test = x[:60000], x[60000:], y[:60000], y[60000:]"
   ]
  },
  {
   "cell_type": "code",
   "execution_count": 5,
   "metadata": {},
   "outputs": [],
   "source": [
    "# Train for value nr 5\n",
    "\n",
    "y_train_5 = (y_train == 5)  # True for all 5s, False for all other digits\n",
    "y_test_5 = (y_test == 5)"
   ]
  },
  {
   "cell_type": "code",
   "execution_count": null,
   "metadata": {},
   "outputs": [],
   "source": [
    "#Training\n",
    "\n",
    "from sklearn.linear_model import SGDClassifier\n",
    "\n",
    "sgd_clf = SGDClassifier(random_state=42)\n",
    "sgd_clf.fit(x_train, y_train_5)"
   ]
  },
  {
   "cell_type": "code",
   "execution_count": null,
   "metadata": {},
   "outputs": [],
   "source": [
    "sgd_clf.predict([x[0]])"
   ]
  },
  {
   "cell_type": "code",
   "execution_count": null,
   "metadata": {},
   "outputs": [
    {
     "data": {
      "text/plain": [
       "-78.28789316179756"
      ]
     },
     "execution_count": 9,
     "metadata": {},
     "output_type": "execute_result"
    }
   ],
   "source": [
    "np.log(1e-34)"
   ]
  },
  {
   "cell_type": "code",
   "execution_count": 16,
   "metadata": {},
   "outputs": [
    {
     "name": "stdout",
     "output_type": "stream",
     "text": [
      "min p:  1.0102270256728554e-34 , max p:  1.0\n",
      "[ 8.01958500e-12             inf  1.18016708e-13 -0.00000000e+00\n",
      "  1.79681836e-01             inf  2.07611706e-14             inf\n",
      " -0.00000000e+00  1.73569211e-07  2.87324350e+01  4.08297678e+01\n",
      "             inf  2.76661821e+01 -0.00000000e+00  1.04058162e+01\n",
      "  1.23936484e+01  2.19188062e+01 -0.00000000e+00  1.11022302e-16] 20 inf\n",
      "Iteration:0, Cost: inf\n",
      "min p:  1.965907731411795e-40 , max p:  1.0\n",
      "[ 1.11757583e+01  1.47403720e+01 -0.00000000e+00 -0.00000000e+00\n",
      "  1.01252340e-13  4.47840105e-01 -0.00000000e+00  2.75593967e+01\n",
      " -0.00000000e+00 -0.00000000e+00  1.32138453e-07  4.55614912e+01\n",
      "             inf  1.12784334e-03 -0.00000000e+00  2.84046897e-10\n",
      "  6.57588206e-10  1.00559501e-07 -0.00000000e+00 -0.00000000e+00] 20 inf\n",
      "Iteration:1, Cost: inf\n",
      "min p:  3.49075651089935e-42 , max p:  0.9999999999999933\n",
      "[ 1.83058053e+01  1.10720458e+00 -0.00000000e+00 -0.00000000e+00\n",
      "  3.33066907e-16  4.90483901e-05 -0.00000000e+00  1.05086868e+01\n",
      " -0.00000000e+00 -0.00000000e+00  7.60169705e-13  4.28399132e+01\n",
      "  3.26424560e+01  2.21474405e-06 -0.00000000e+00  9.06164033e-13\n",
      "  8.38551450e-13  1.22885258e-10 -0.00000000e+00 -0.00000000e+00] 20 105.40411712662734\n",
      "Iteration:2, Cost: 5.270\n",
      "min p:  1.8618755292025327e-43 , max p:  0.9999999875898521\n",
      "[ 2.27784474e+01  1.61369075e-04 -0.00000000e+00 -0.00000000e+00\n",
      " -0.00000000e+00  4.03621804e-07 -0.00000000e+00  4.58408853e-02\n",
      " -0.00000000e+00 -0.00000000e+00  1.11022302e-16  3.92905435e+01\n",
      "  1.82047513e+01  7.76349831e-08 -0.00000000e+00  4.14113188e-14\n",
      "  1.05471187e-14  2.43161047e-12 -0.00000000e+00 -0.00000000e+00] 20 80.31974495608969\n",
      "Iteration:3, Cost: 4.016\n",
      "min p:  2.097902562534172e-43 , max p:  0.999969551519887\n",
      "[ 1.82540613e+01  1.39987196e-03 -0.00000000e+00 -0.00000000e+00\n",
      " -0.00000000e+00  4.02952895e-06 -0.00000000e+00  1.48610350e-01\n",
      " -0.00000000e+00 -0.00000000e+00  1.11022302e-16  3.48119400e+01\n",
      "  1.03994745e+01  9.61937147e-07 -0.00000000e+00  4.83946216e-13\n",
      "  4.58522109e-14  7.89435184e-11 -0.00000000e+00 -0.00000000e+00] 20 63.615490987217136\n",
      "Iteration:4, Cost: 3.181\n",
      "min p:  1.935315933088984e-43 , max p:  0.8922447990622845\n",
      "[ 1.43204760e+01  7.53320358e-03 -0.00000000e+00 -0.00000000e+00\n",
      "  2.22044605e-16  2.49000448e-05 -0.00000000e+00  1.63224968e-01\n",
      " -0.00000000e+00  1.11022302e-16 -0.00000000e+00  3.03908868e+01\n",
      "  2.22789328e+00  8.69081562e-06 -0.00000000e+00  4.13780121e-12\n",
      "  1.33448808e-13  1.55225533e-09 -0.00000000e+00 -0.00000000e+00] 20 47.110047869978985\n",
      "Iteration:5, Cost: 2.356\n",
      "min p:  2.093510505468098e-43 , max p:  0.2213102012296029\n",
      "[ 1.00653935e+01  4.66748584e-02 -0.00000000e+00 -0.00000000e+00\n",
      "  8.88178420e-16  1.85708264e-04 -0.00000000e+00  2.50142517e-01\n",
      " -0.00000000e+00  1.66533454e-15 -0.00000000e+00  2.59532437e+01\n",
      "  6.84551906e-03  8.66516461e-05 -0.00000000e+00  3.73645559e-11\n",
      "  4.66182648e-13  3.74807495e-08 -0.00000000e+00 -0.00000000e+00] 20 36.32257251363959\n",
      "Iteration:6, Cost: 1.816\n",
      "min p:  9.140744080662174e-43 , max p:  0.9372994130618262\n",
      "[ 2.96519567e+00  9.01099286e-01 -0.00000000e+00 -0.00000000e+00\n",
      "  8.54871729e-15  7.94202502e-03 -0.00000000e+00  2.76938447e+00\n",
      " -0.00000000e+00  4.91828800e-14  1.77635684e-15  2.13534066e+01\n",
      "  1.16513720e-01  2.26651623e-03 -0.00000000e+00  6.13397222e-10\n",
      "  8.69837535e-12  6.05487764e-06 -0.00000000e+00 -0.00000000e+00] 20 28.115814380812807\n",
      "Iteration:7, Cost: 1.406\n",
      "min p:  2.810111680925459e-43 , max p:  0.025975967966058517\n",
      "[ 3.65058348e+00  2.71893206e-03 -0.00000000e+00 -0.00000000e+00\n",
      "  9.99200722e-16  8.57771382e-04 -0.00000000e+00  3.87086637e-03\n",
      " -0.00000000e+00  3.58602037e-14 -0.00000000e+00  1.74977205e+01\n",
      "  3.19114261e-03  4.23339116e-04 -0.00000000e+00  1.00657482e-10\n",
      "  1.15829568e-12  1.89490598e-06 -0.00000000e+00 -0.00000000e+00] 20 21.15936794220942\n",
      "Iteration:8, Cost: 1.058\n",
      "min p:  1.995311539461933e-42 , max p:  0.9923053659478521\n",
      "[ 7.72439049e-03  2.92925354e-01 -0.00000000e+00 -0.00000000e+00\n",
      "  2.17603713e-14  1.12037989e-01 -0.00000000e+00  1.37785776e+00\n",
      " -0.00000000e+00  2.32414088e-12  1.86517468e-14  1.27339125e+01\n",
      "  1.68846987e-01  2.49069110e-02 -0.00000000e+00  3.70215137e-09\n",
      "  5.66057201e-11  1.02117198e-03 -0.00000000e+00 -0.00000000e+00] 20 14.7192330627565\n",
      "Iteration:9, Cost: 0.736\n",
      "min p:  2.1704530026880025e-43 , max p:  0.08964710423744701\n",
      "[ 2.41187438e+00  4.53089068e-04 -0.00000000e+00 -0.00000000e+00\n",
      "  1.22124533e-15  1.55430278e-03 -0.00000000e+00  4.90223608e-05\n",
      " -0.00000000e+00  4.73288075e-13 -0.00000000e+00  8.45046779e+00\n",
      "  3.21665319e-04  1.15287595e-03 -0.00000000e+00  2.03263517e-10\n",
      "  1.23745458e-12  2.98786441e-05 -0.00000000e+00 -0.00000000e+00] 20 10.865903007479874\n",
      "Iteration:10, Cost: 0.543\n",
      "min p:  1.3963571759238024e-42 , max p:  0.9964026843167002\n",
      "[ 3.60380158e-03  4.35331902e-02 -0.00000000e+00 -0.00000000e+00\n",
      "  2.23154828e-14  1.64694460e-01 -0.00000000e+00  2.64934930e-02\n",
      " -0.00000000e+00  2.69884115e-11  7.10542736e-15  3.68674980e+00\n",
      "  1.50978166e-02  5.65256973e-02 -0.00000000e+00  6.46893252e-09\n",
      "  5.07140996e-11  1.26627188e-02 -0.00000000e+00 -0.00000000e+00] 20 4.00936098459802\n",
      "Iteration:11, Cost: 0.200\n",
      "min p:  1.0447660362860017e-42 , max p:  0.9847616983785202\n",
      "[ 1.53555977e-02  1.87487292e-02 -0.00000000e+00 -0.00000000e+00\n",
      "  2.37587727e-14  1.27665165e-01 -0.00000000e+00  9.73966569e-03\n",
      " -0.00000000e+00  7.76234632e-11  4.88498131e-15  3.32458492e-01\n",
      "  7.81472100e-03  4.75563146e-02 -0.00000000e+00  6.66746260e-09\n",
      "  4.13528101e-11  3.21107837e-02 -0.00000000e+00 -0.00000000e+00] 20 0.5914494752973678\n",
      "Iteration:12, Cost: 0.030\n",
      "min p:  7.576590049403795e-43 , max p:  0.9668235182198301\n",
      "[ 3.37393046e-02  8.99847253e-03 -0.00000000e+00 -0.00000000e+00\n",
      "  1.43218770e-14  4.63419050e-02 -0.00000000e+00  3.91435125e-03\n",
      " -0.00000000e+00  6.64859279e-11  2.66453526e-15  1.25792609e-01\n",
      "  4.66305869e-03  2.28059984e-02 -0.00000000e+00  4.02423584e-09\n",
      "  2.45804488e-11  2.15475816e-02 -0.00000000e+00 -0.00000000e+00] 20 0.26780328524976016\n",
      "Iteration:13, Cost: 0.013\n"
     ]
    }
   ],
   "source": [
    "import linear_regression\n",
    "import importlib\n",
    "\n",
    "importlib.reload(linear_regression)\n",
    "\n",
    "\n",
    "y_training = y_train_5.astype(float)\n",
    "classifier = LinearClassifierwithSGD()\n",
    "classifier.fit(x_train[:20],y_train_5[:20])"
   ]
  },
  {
   "cell_type": "code",
   "execution_count": null,
   "metadata": {},
   "outputs": [],
   "source": [
    "a = np.array([ 25.54912232,  53.65405139, -29.76814742, -42.09705213,  -1.62538177,\n",
    "  39.17406244, -31.50557954,  77.7831292,  -78.27771807, -15.56668931,\n",
    "  28.73235527, -40.82976777,  84.57280941,  27.66623204, -78.01955638,\n",
    "  10.40578594,  12.39364428,  21.91880594, -76.93698,    -37.15405645])"
   ]
  },
  {
   "cell_type": "code",
   "execution_count": null,
   "metadata": {},
   "outputs": [
    {
     "data": {
      "text/plain": [
       "array([8.01968221e-12, 4.99276988e-24, 8.47504789e+12, 1.91653804e+18,\n",
       "       5.08035820e+00, 9.70333105e-18, 4.81614267e+13, 1.65659445e-34,\n",
       "       9.89876499e+33, 5.76138993e+06, 3.32427279e-13, 5.39688097e+17,\n",
       "       1.86421309e-37, 9.65401768e-13, 7.64650217e+33, 3.02569109e-05,\n",
       "       4.14484867e-06, 3.02540507e-10, 2.59003640e+33, 1.36710445e+16])"
      ]
     },
     "execution_count": 13,
     "metadata": {},
     "output_type": "execute_result"
    }
   ],
   "source": [
    "b = np.exp(-a)\n",
    "float(b)"
   ]
  },
  {
   "cell_type": "code",
   "execution_count": null,
   "metadata": {},
   "outputs": [],
   "source": [
    "c=float(1.0)+b+1e-8"
   ]
  },
  {
   "cell_type": "code",
   "execution_count": null,
   "metadata": {},
   "outputs": [
    {
     "data": {
      "text/plain": [
       "array([9.99999990e-01, 9.99999990e-01, 1.17993434e-13, 5.21774146e-19,\n",
       "       1.64463995e-01, 9.99999990e-01, 2.07635045e-14, 9.99999990e-01,\n",
       "       1.01022703e-34, 1.73569198e-07, 9.99999990e-01, 1.85292210e-18,\n",
       "       9.99999990e-01, 9.99999990e-01, 1.30778750e-34, 9.99969734e-01,\n",
       "       9.99995845e-01, 9.99999990e-01, 3.86094959e-34, 7.31473006e-17])"
      ]
     },
     "execution_count": 22,
     "metadata": {},
     "output_type": "execute_result"
    }
   ],
   "source": [
    "1/c"
   ]
  }
 ],
 "metadata": {
  "kernelspec": {
   "display_name": "Python 3",
   "language": "python",
   "name": "python3"
  },
  "language_info": {
   "codemirror_mode": {
    "name": "ipython",
    "version": 3
   },
   "file_extension": ".py",
   "mimetype": "text/x-python",
   "name": "python",
   "nbconvert_exporter": "python",
   "pygments_lexer": "ipython3",
   "version": "3.10.12"
  },
  "orig_nbformat": 4
 },
 "nbformat": 4,
 "nbformat_minor": 2
}
